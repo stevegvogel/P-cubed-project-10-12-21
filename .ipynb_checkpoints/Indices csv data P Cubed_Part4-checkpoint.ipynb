{
 "cells": [
  {
   "cell_type": "code",
   "execution_count": 1,
   "id": "8f4b3c6f",
   "metadata": {},
   "outputs": [],
   "source": [
    "#Initial Imports\n",
    "import pandas as pd\n",
    "import numpy as np\n",
    "import datetime as dt\n",
    "from pathlib import Path\n",
    "\n",
    "%matplotlib inline\n"
   ]
  },
  {
   "cell_type": "code",
   "execution_count": null,
   "id": "a6767540",
   "metadata": {},
   "outputs": [],
   "source": []
  },
  {
   "cell_type": "code",
   "execution_count": 2,
   "id": "c016cea0",
   "metadata": {},
   "outputs": [
    {
     "data": {
      "text/html": [
       "<div>\n",
       "<style scoped>\n",
       "    .dataframe tbody tr th:only-of-type {\n",
       "        vertical-align: middle;\n",
       "    }\n",
       "\n",
       "    .dataframe tbody tr th {\n",
       "        vertical-align: top;\n",
       "    }\n",
       "\n",
       "    .dataframe thead th {\n",
       "        text-align: right;\n",
       "    }\n",
       "</style>\n",
       "<table border=\"1\" class=\"dataframe\">\n",
       "  <thead>\n",
       "    <tr style=\"text-align: right;\">\n",
       "      <th></th>\n",
       "      <th>Index_DJIA</th>\n",
       "    </tr>\n",
       "    <tr>\n",
       "      <th>Date</th>\n",
       "      <th></th>\n",
       "    </tr>\n",
       "  </thead>\n",
       "  <tbody>\n",
       "    <tr>\n",
       "      <th>2021-10-12</th>\n",
       "      <td>34,378.34</td>\n",
       "    </tr>\n",
       "    <tr>\n",
       "      <th>2021-10-11</th>\n",
       "      <td>34,496.06</td>\n",
       "    </tr>\n",
       "    <tr>\n",
       "      <th>2021-10-08</th>\n",
       "      <td>34,746.25</td>\n",
       "    </tr>\n",
       "    <tr>\n",
       "      <th>2021-10-07</th>\n",
       "      <td>34,754.94</td>\n",
       "    </tr>\n",
       "    <tr>\n",
       "      <th>2021-10-06</th>\n",
       "      <td>34,416.99</td>\n",
       "    </tr>\n",
       "    <tr>\n",
       "      <th>...</th>\n",
       "      <td>...</td>\n",
       "    </tr>\n",
       "    <tr>\n",
       "      <th>2020-10-16</th>\n",
       "      <td>28,606.31</td>\n",
       "    </tr>\n",
       "    <tr>\n",
       "      <th>2020-10-15</th>\n",
       "      <td>28,494.20</td>\n",
       "    </tr>\n",
       "    <tr>\n",
       "      <th>2020-10-14</th>\n",
       "      <td>28,514.00</td>\n",
       "    </tr>\n",
       "    <tr>\n",
       "      <th>2020-10-13</th>\n",
       "      <td>28,679.81</td>\n",
       "    </tr>\n",
       "    <tr>\n",
       "      <th>2020-10-12</th>\n",
       "      <td>28,837.52</td>\n",
       "    </tr>\n",
       "  </tbody>\n",
       "</table>\n",
       "<p>253 rows × 1 columns</p>\n",
       "</div>"
      ],
      "text/plain": [
       "           Index_DJIA\n",
       "Date                 \n",
       "2021-10-12  34,378.34\n",
       "2021-10-11  34,496.06\n",
       "2021-10-08  34,746.25\n",
       "2021-10-07  34,754.94\n",
       "2021-10-06  34,416.99\n",
       "...               ...\n",
       "2020-10-16  28,606.31\n",
       "2020-10-15  28,494.20\n",
       "2020-10-14  28,514.00\n",
       "2020-10-13  28,679.81\n",
       "2020-10-12  28,837.52\n",
       "\n",
       "[253 rows x 1 columns]"
      ]
     },
     "execution_count": 2,
     "metadata": {},
     "output_type": "execute_result"
    }
   ],
   "source": [
    "#Read the Index_DJIA.csv data files\n",
    "Index_DJIA_csv = Path(\"Resources/Index_DJIA.csv\")\n",
    "Index_DJIA =pd.read_csv(Index_DJIA_csv, index_col=\"Date\", parse_dates=True, infer_datetime_format=True)\n",
    "Index_DJIA = Index_DJIA.rename(columns={\"Close\":\"Index_DJIA\"})\n",
    "Index_DJIA = Index_DJIA[[\"Index_DJIA\"]]\n",
    "Index_DJIA\n"
   ]
  },
  {
   "cell_type": "code",
   "execution_count": 3,
   "id": "18ace078",
   "metadata": {},
   "outputs": [
    {
     "name": "stdout",
     "output_type": "stream",
     "text": [
      "Index_DJIA    0\n",
      "dtype: int64\n",
      "Empty DataFrame\n",
      "Columns: [Index_DJIA]\n",
      "Index: []\n"
     ]
    }
   ],
   "source": [
    "#Count Nulls\n",
    "print(Index_DJIA.isnull().sum())\n",
    "print(Index_DJIA[Index_DJIA.isnull().any(axis = 1)])\n"
   ]
  },
  {
   "cell_type": "code",
   "execution_count": 4,
   "id": "c7156682",
   "metadata": {},
   "outputs": [],
   "source": [
    "#Drop nulls\n",
    "Index_DJIA.dropna(inplace=True)\n"
   ]
  },
  {
   "cell_type": "code",
   "execution_count": null,
   "id": "0b8a304c",
   "metadata": {},
   "outputs": [],
   "source": []
  },
  {
   "cell_type": "code",
   "execution_count": 5,
   "id": "00569bb7",
   "metadata": {},
   "outputs": [
    {
     "data": {
      "text/html": [
       "<div>\n",
       "<style scoped>\n",
       "    .dataframe tbody tr th:only-of-type {\n",
       "        vertical-align: middle;\n",
       "    }\n",
       "\n",
       "    .dataframe tbody tr th {\n",
       "        vertical-align: top;\n",
       "    }\n",
       "\n",
       "    .dataframe thead th {\n",
       "        text-align: right;\n",
       "    }\n",
       "</style>\n",
       "<table border=\"1\" class=\"dataframe\">\n",
       "  <thead>\n",
       "    <tr style=\"text-align: right;\">\n",
       "      <th></th>\n",
       "      <th>Index_QQQM</th>\n",
       "    </tr>\n",
       "    <tr>\n",
       "      <th>Date</th>\n",
       "      <th></th>\n",
       "    </tr>\n",
       "  </thead>\n",
       "  <tbody>\n",
       "    <tr>\n",
       "      <th>2020-10-13</th>\n",
       "      <td>121.050003</td>\n",
       "    </tr>\n",
       "    <tr>\n",
       "      <th>2020-10-14</th>\n",
       "      <td>119.970001</td>\n",
       "    </tr>\n",
       "    <tr>\n",
       "      <th>2020-10-15</th>\n",
       "      <td>119.107002</td>\n",
       "    </tr>\n",
       "    <tr>\n",
       "      <th>2020-10-16</th>\n",
       "      <td>118.500000</td>\n",
       "    </tr>\n",
       "    <tr>\n",
       "      <th>2020-10-19</th>\n",
       "      <td>116.449997</td>\n",
       "    </tr>\n",
       "    <tr>\n",
       "      <th>...</th>\n",
       "      <td>...</td>\n",
       "    </tr>\n",
       "    <tr>\n",
       "      <th>2021-10-06</th>\n",
       "      <td>147.880005</td>\n",
       "    </tr>\n",
       "    <tr>\n",
       "      <th>2021-10-07</th>\n",
       "      <td>149.179993</td>\n",
       "    </tr>\n",
       "    <tr>\n",
       "      <th>2021-10-08</th>\n",
       "      <td>148.449997</td>\n",
       "    </tr>\n",
       "    <tr>\n",
       "      <th>2021-10-11</th>\n",
       "      <td>147.320007</td>\n",
       "    </tr>\n",
       "    <tr>\n",
       "      <th>2021-10-12</th>\n",
       "      <td>146.820007</td>\n",
       "    </tr>\n",
       "  </tbody>\n",
       "</table>\n",
       "<p>252 rows × 1 columns</p>\n",
       "</div>"
      ],
      "text/plain": [
       "            Index_QQQM\n",
       "Date                  \n",
       "2020-10-13  121.050003\n",
       "2020-10-14  119.970001\n",
       "2020-10-15  119.107002\n",
       "2020-10-16  118.500000\n",
       "2020-10-19  116.449997\n",
       "...                ...\n",
       "2021-10-06  147.880005\n",
       "2021-10-07  149.179993\n",
       "2021-10-08  148.449997\n",
       "2021-10-11  147.320007\n",
       "2021-10-12  146.820007\n",
       "\n",
       "[252 rows x 1 columns]"
      ]
     },
     "execution_count": 5,
     "metadata": {},
     "output_type": "execute_result"
    }
   ],
   "source": [
    "#Read the Index_QQQM.csv data files\n",
    "Index_QQQM_csv = Path(\"Resources/Index_QQQM.csv\")\n",
    "Index_QQQM =pd.read_csv(Index_QQQM_csv, index_col=\"Date\", parse_dates=True, infer_datetime_format=True)\n",
    "Index_QQQM = Index_QQQM.rename(columns={\"Close\":\"Index_QQQM\"})\n",
    "Index_QQQM = Index_QQQM[[\"Index_QQQM\"]]\n",
    "Index_QQQM"
   ]
  },
  {
   "cell_type": "code",
   "execution_count": 6,
   "id": "0ff49b29",
   "metadata": {},
   "outputs": [
    {
     "name": "stdout",
     "output_type": "stream",
     "text": [
      "Index_QQQM    0\n",
      "dtype: int64\n",
      "Empty DataFrame\n",
      "Columns: [Index_QQQM]\n",
      "Index: []\n"
     ]
    }
   ],
   "source": [
    "#Count Nulls\n",
    "print(Index_QQQM.isnull().sum())\n",
    "print(Index_QQQM[Index_QQQM.isnull().any(axis = 1)])\n"
   ]
  },
  {
   "cell_type": "code",
   "execution_count": 7,
   "id": "8e8a3177",
   "metadata": {},
   "outputs": [],
   "source": [
    "#Drop nulls\n",
    "Index_QQQM.dropna(inplace=True)\n"
   ]
  },
  {
   "cell_type": "code",
   "execution_count": 8,
   "id": "8c0f21bb",
   "metadata": {},
   "outputs": [
    {
     "data": {
      "text/html": [
       "<div>\n",
       "<style scoped>\n",
       "    .dataframe tbody tr th:only-of-type {\n",
       "        vertical-align: middle;\n",
       "    }\n",
       "\n",
       "    .dataframe tbody tr th {\n",
       "        vertical-align: top;\n",
       "    }\n",
       "\n",
       "    .dataframe thead th {\n",
       "        text-align: right;\n",
       "    }\n",
       "</style>\n",
       "<table border=\"1\" class=\"dataframe\">\n",
       "  <thead>\n",
       "    <tr style=\"text-align: right;\">\n",
       "      <th></th>\n",
       "      <th>SPX</th>\n",
       "    </tr>\n",
       "    <tr>\n",
       "      <th>Date</th>\n",
       "      <th></th>\n",
       "    </tr>\n",
       "  </thead>\n",
       "  <tbody>\n",
       "    <tr>\n",
       "      <th>2021-10-12</th>\n",
       "      <td>4,350.65</td>\n",
       "    </tr>\n",
       "    <tr>\n",
       "      <th>2021-10-11</th>\n",
       "      <td>4,361.19</td>\n",
       "    </tr>\n",
       "    <tr>\n",
       "      <th>2021-10-08</th>\n",
       "      <td>4,391.34</td>\n",
       "    </tr>\n",
       "    <tr>\n",
       "      <th>2021-10-07</th>\n",
       "      <td>4,399.76</td>\n",
       "    </tr>\n",
       "    <tr>\n",
       "      <th>2021-10-06</th>\n",
       "      <td>4,363.55</td>\n",
       "    </tr>\n",
       "    <tr>\n",
       "      <th>...</th>\n",
       "      <td>...</td>\n",
       "    </tr>\n",
       "    <tr>\n",
       "      <th>2020-10-16</th>\n",
       "      <td>3,483.81</td>\n",
       "    </tr>\n",
       "    <tr>\n",
       "      <th>2020-10-15</th>\n",
       "      <td>3,483.34</td>\n",
       "    </tr>\n",
       "    <tr>\n",
       "      <th>2020-10-14</th>\n",
       "      <td>3,488.67</td>\n",
       "    </tr>\n",
       "    <tr>\n",
       "      <th>2020-10-13</th>\n",
       "      <td>3,511.93</td>\n",
       "    </tr>\n",
       "    <tr>\n",
       "      <th>2020-10-12</th>\n",
       "      <td>3,534.22</td>\n",
       "    </tr>\n",
       "  </tbody>\n",
       "</table>\n",
       "<p>253 rows × 1 columns</p>\n",
       "</div>"
      ],
      "text/plain": [
       "                 SPX\n",
       "Date                \n",
       "2021-10-12  4,350.65\n",
       "2021-10-11  4,361.19\n",
       "2021-10-08  4,391.34\n",
       "2021-10-07  4,399.76\n",
       "2021-10-06  4,363.55\n",
       "...              ...\n",
       "2020-10-16  3,483.81\n",
       "2020-10-15  3,483.34\n",
       "2020-10-14  3,488.67\n",
       "2020-10-13  3,511.93\n",
       "2020-10-12  3,534.22\n",
       "\n",
       "[253 rows x 1 columns]"
      ]
     },
     "execution_count": 8,
     "metadata": {},
     "output_type": "execute_result"
    }
   ],
   "source": [
    "#Read the Index_S&P_SPX.csv data files\n",
    "SPX_csv = Path(\"Resources/SPX.csv\")\n",
    "SPX =pd.read_csv(SPX_csv, index_col=\"Date\", parse_dates=True, infer_datetime_format=True)\n",
    "SPX = SPX.rename(columns={\"Close\":\"SPX\"})\n",
    "SPX = SPX[[\"SPX\"]]\n",
    "SPX"
   ]
  },
  {
   "cell_type": "code",
   "execution_count": 9,
   "id": "cdfe027c",
   "metadata": {},
   "outputs": [
    {
     "name": "stdout",
     "output_type": "stream",
     "text": [
      "SPX    0\n",
      "dtype: int64\n",
      "Empty DataFrame\n",
      "Columns: [SPX]\n",
      "Index: []\n"
     ]
    }
   ],
   "source": [
    "#Count Nulls\n",
    "print(SPX.isnull().sum())\n",
    "print(SPX[SPX.isnull().any(axis = 1)])"
   ]
  },
  {
   "cell_type": "code",
   "execution_count": 10,
   "id": "6c576147",
   "metadata": {},
   "outputs": [],
   "source": [
    "#Drop nulls\n",
    "SPX.dropna(inplace=True)\n"
   ]
  },
  {
   "cell_type": "code",
   "execution_count": null,
   "id": "f349b687",
   "metadata": {},
   "outputs": [],
   "source": []
  },
  {
   "cell_type": "code",
   "execution_count": 11,
   "id": "15cf1b08",
   "metadata": {},
   "outputs": [],
   "source": [
    "# Join Index_DJIA, Index_QQQM, SPX into a single Data Frame\n",
    "df_daily = pd.concat([Index_DJIA, Index_QQQM, SPX], axis = \"columns\", join = \"inner\")\n"
   ]
  },
  {
   "cell_type": "code",
   "execution_count": 12,
   "id": "54339b3e",
   "metadata": {},
   "outputs": [
    {
     "data": {
      "text/plain": [
       "str"
      ]
     },
     "execution_count": 12,
     "metadata": {},
     "output_type": "execute_result"
    }
   ],
   "source": [
    "type(df_daily[\"Index_DJIA\"].iloc[0])"
   ]
  },
  {
   "cell_type": "code",
   "execution_count": 13,
   "id": "0cf8ed67",
   "metadata": {},
   "outputs": [
    {
     "data": {
      "text/html": [
       "<div>\n",
       "<style scoped>\n",
       "    .dataframe tbody tr th:only-of-type {\n",
       "        vertical-align: middle;\n",
       "    }\n",
       "\n",
       "    .dataframe tbody tr th {\n",
       "        vertical-align: top;\n",
       "    }\n",
       "\n",
       "    .dataframe thead th {\n",
       "        text-align: right;\n",
       "    }\n",
       "</style>\n",
       "<table border=\"1\" class=\"dataframe\">\n",
       "  <thead>\n",
       "    <tr style=\"text-align: right;\">\n",
       "      <th></th>\n",
       "      <th>Index_DJIA</th>\n",
       "      <th>Index_QQQM</th>\n",
       "      <th>SPX</th>\n",
       "    </tr>\n",
       "    <tr>\n",
       "      <th>Date</th>\n",
       "      <th></th>\n",
       "      <th></th>\n",
       "      <th></th>\n",
       "    </tr>\n",
       "  </thead>\n",
       "  <tbody>\n",
       "    <tr>\n",
       "      <th>2021-10-12</th>\n",
       "      <td>34,378.34</td>\n",
       "      <td>146.820007</td>\n",
       "      <td>4,350.65</td>\n",
       "    </tr>\n",
       "    <tr>\n",
       "      <th>2021-10-11</th>\n",
       "      <td>34,496.06</td>\n",
       "      <td>147.320007</td>\n",
       "      <td>4,361.19</td>\n",
       "    </tr>\n",
       "    <tr>\n",
       "      <th>2021-10-08</th>\n",
       "      <td>34,746.25</td>\n",
       "      <td>148.449997</td>\n",
       "      <td>4,391.34</td>\n",
       "    </tr>\n",
       "    <tr>\n",
       "      <th>2021-10-07</th>\n",
       "      <td>34,754.94</td>\n",
       "      <td>149.179993</td>\n",
       "      <td>4,399.76</td>\n",
       "    </tr>\n",
       "    <tr>\n",
       "      <th>2021-10-06</th>\n",
       "      <td>34,416.99</td>\n",
       "      <td>147.880005</td>\n",
       "      <td>4,363.55</td>\n",
       "    </tr>\n",
       "  </tbody>\n",
       "</table>\n",
       "</div>"
      ],
      "text/plain": [
       "           Index_DJIA  Index_QQQM       SPX\n",
       "Date                                       \n",
       "2021-10-12  34,378.34  146.820007  4,350.65\n",
       "2021-10-11  34,496.06  147.320007  4,361.19\n",
       "2021-10-08  34,746.25  148.449997  4,391.34\n",
       "2021-10-07  34,754.94  149.179993  4,399.76\n",
       "2021-10-06  34,416.99  147.880005  4,363.55"
      ]
     },
     "execution_count": 13,
     "metadata": {},
     "output_type": "execute_result"
    }
   ],
   "source": [
    "df_daily.head()"
   ]
  },
  {
   "cell_type": "code",
   "execution_count": 14,
   "id": "3444643c",
   "metadata": {},
   "outputs": [],
   "source": [
    "df_daily = df_daily.replace({',':''},regex=True).apply(pd.to_numeric,1)"
   ]
  },
  {
   "cell_type": "code",
   "execution_count": 15,
   "id": "b899ae84",
   "metadata": {},
   "outputs": [
    {
     "data": {
      "text/html": [
       "<div>\n",
       "<style scoped>\n",
       "    .dataframe tbody tr th:only-of-type {\n",
       "        vertical-align: middle;\n",
       "    }\n",
       "\n",
       "    .dataframe tbody tr th {\n",
       "        vertical-align: top;\n",
       "    }\n",
       "\n",
       "    .dataframe thead th {\n",
       "        text-align: right;\n",
       "    }\n",
       "</style>\n",
       "<table border=\"1\" class=\"dataframe\">\n",
       "  <thead>\n",
       "    <tr style=\"text-align: right;\">\n",
       "      <th></th>\n",
       "      <th>Index_DJIA</th>\n",
       "      <th>Index_QQQM</th>\n",
       "      <th>SPX</th>\n",
       "    </tr>\n",
       "    <tr>\n",
       "      <th>Date</th>\n",
       "      <th></th>\n",
       "      <th></th>\n",
       "      <th></th>\n",
       "    </tr>\n",
       "  </thead>\n",
       "  <tbody>\n",
       "    <tr>\n",
       "      <th>2021-10-11</th>\n",
       "      <td>0.003424</td>\n",
       "      <td>0.003406</td>\n",
       "      <td>0.002423</td>\n",
       "    </tr>\n",
       "    <tr>\n",
       "      <th>2021-10-08</th>\n",
       "      <td>0.007253</td>\n",
       "      <td>0.007670</td>\n",
       "      <td>0.006913</td>\n",
       "    </tr>\n",
       "    <tr>\n",
       "      <th>2021-10-07</th>\n",
       "      <td>0.000250</td>\n",
       "      <td>0.004917</td>\n",
       "      <td>0.001917</td>\n",
       "    </tr>\n",
       "    <tr>\n",
       "      <th>2021-10-06</th>\n",
       "      <td>-0.009724</td>\n",
       "      <td>-0.008714</td>\n",
       "      <td>-0.008230</td>\n",
       "    </tr>\n",
       "    <tr>\n",
       "      <th>2021-10-05</th>\n",
       "      <td>-0.002973</td>\n",
       "      <td>-0.006762</td>\n",
       "      <td>-0.004086</td>\n",
       "    </tr>\n",
       "    <tr>\n",
       "      <th>...</th>\n",
       "      <td>...</td>\n",
       "      <td>...</td>\n",
       "      <td>...</td>\n",
       "    </tr>\n",
       "    <tr>\n",
       "      <th>2020-10-19</th>\n",
       "      <td>-0.004005</td>\n",
       "      <td>-0.003764</td>\n",
       "      <td>-0.004705</td>\n",
       "    </tr>\n",
       "    <tr>\n",
       "      <th>2020-10-16</th>\n",
       "      <td>0.014573</td>\n",
       "      <td>0.017604</td>\n",
       "      <td>0.016601</td>\n",
       "    </tr>\n",
       "    <tr>\n",
       "      <th>2020-10-15</th>\n",
       "      <td>-0.003919</td>\n",
       "      <td>0.005122</td>\n",
       "      <td>-0.000135</td>\n",
       "    </tr>\n",
       "    <tr>\n",
       "      <th>2020-10-14</th>\n",
       "      <td>0.000695</td>\n",
       "      <td>0.007246</td>\n",
       "      <td>0.001530</td>\n",
       "    </tr>\n",
       "    <tr>\n",
       "      <th>2020-10-13</th>\n",
       "      <td>0.005815</td>\n",
       "      <td>0.009002</td>\n",
       "      <td>0.006667</td>\n",
       "    </tr>\n",
       "  </tbody>\n",
       "</table>\n",
       "<p>251 rows × 3 columns</p>\n",
       "</div>"
      ],
      "text/plain": [
       "            Index_DJIA  Index_QQQM       SPX\n",
       "Date                                        \n",
       "2021-10-11    0.003424    0.003406  0.002423\n",
       "2021-10-08    0.007253    0.007670  0.006913\n",
       "2021-10-07    0.000250    0.004917  0.001917\n",
       "2021-10-06   -0.009724   -0.008714 -0.008230\n",
       "2021-10-05   -0.002973   -0.006762 -0.004086\n",
       "...                ...         ...       ...\n",
       "2020-10-19   -0.004005   -0.003764 -0.004705\n",
       "2020-10-16    0.014573    0.017604  0.016601\n",
       "2020-10-15   -0.003919    0.005122 -0.000135\n",
       "2020-10-14    0.000695    0.007246  0.001530\n",
       "2020-10-13    0.005815    0.009002  0.006667\n",
       "\n",
       "[251 rows x 3 columns]"
      ]
     },
     "execution_count": 15,
     "metadata": {},
     "output_type": "execute_result"
    }
   ],
   "source": [
    "df_daily_returns = df_daily.pct_change()\n",
    "df_daily_returns = df_daily_returns.dropna().copy()\n",
    "df_daily_returns"
   ]
  },
  {
   "cell_type": "code",
   "execution_count": null,
   "id": "7ecab13d",
   "metadata": {},
   "outputs": [],
   "source": []
  },
  {
   "cell_type": "code",
   "execution_count": 16,
   "id": "7fc89d22",
   "metadata": {},
   "outputs": [
    {
     "data": {
      "text/plain": [
       "<AxesSubplot:xlabel='Date'>"
      ]
     },
     "execution_count": 16,
     "metadata": {},
     "output_type": "execute_result"
    },
    {
     "data": {
      "image/png": "[encoded data removed]",
      "text/plain": [
       "<Figure size 1440x720 with 1 Axes>"
      ]
     },
     "metadata": {
      "needs_background": "light"
     },
     "output_type": "display_data"
    }
   ],
   "source": [
    "# PLot daily returns of all portfolios\n",
    "df_daily.plot(figsize = (20,10))\n"
   ]
  },
  {
   "cell_type": "raw",
   "id": "ad02dafe",
   "metadata": {},
   "source": [
    "# Calculate cumulative returns of the the stocks\n",
    "df_cum = (1+ df_daily).cumprod()\n"
   ]
  },
  {
   "cell_type": "code",
   "execution_count": 17,
   "id": "13e5144e",
   "metadata": {},
   "outputs": [
    {
     "data": {
      "text/html": [
       "<div>\n",
       "<style scoped>\n",
       "    .dataframe tbody tr th:only-of-type {\n",
       "        vertical-align: middle;\n",
       "    }\n",
       "\n",
       "    .dataframe tbody tr th {\n",
       "        vertical-align: top;\n",
       "    }\n",
       "\n",
       "    .dataframe thead th {\n",
       "        text-align: right;\n",
       "    }\n",
       "</style>\n",
       "<table border=\"1\" class=\"dataframe\">\n",
       "  <thead>\n",
       "    <tr style=\"text-align: right;\">\n",
       "      <th></th>\n",
       "      <th>Index_DJIA</th>\n",
       "      <th>Index_QQQM</th>\n",
       "      <th>SPX</th>\n",
       "    </tr>\n",
       "    <tr>\n",
       "      <th>Date</th>\n",
       "      <th></th>\n",
       "      <th></th>\n",
       "      <th></th>\n",
       "    </tr>\n",
       "  </thead>\n",
       "  <tbody>\n",
       "    <tr>\n",
       "      <th>2021-10-11</th>\n",
       "      <td>1.003424</td>\n",
       "      <td>1.003406</td>\n",
       "      <td>1.002423</td>\n",
       "    </tr>\n",
       "    <tr>\n",
       "      <th>2021-10-08</th>\n",
       "      <td>1.010702</td>\n",
       "      <td>1.011102</td>\n",
       "      <td>1.009353</td>\n",
       "    </tr>\n",
       "    <tr>\n",
       "      <th>2021-10-07</th>\n",
       "      <td>1.010955</td>\n",
       "      <td>1.016074</td>\n",
       "      <td>1.011288</td>\n",
       "    </tr>\n",
       "    <tr>\n",
       "      <th>2021-10-06</th>\n",
       "      <td>1.001124</td>\n",
       "      <td>1.007220</td>\n",
       "      <td>1.002965</td>\n",
       "    </tr>\n",
       "    <tr>\n",
       "      <th>2021-10-05</th>\n",
       "      <td>0.998148</td>\n",
       "      <td>1.000409</td>\n",
       "      <td>0.998867</td>\n",
       "    </tr>\n",
       "    <tr>\n",
       "      <th>...</th>\n",
       "      <td>...</td>\n",
       "      <td>...</td>\n",
       "      <td>...</td>\n",
       "    </tr>\n",
       "    <tr>\n",
       "      <th>2020-10-19</th>\n",
       "      <td>0.820151</td>\n",
       "      <td>0.793148</td>\n",
       "      <td>0.787680</td>\n",
       "    </tr>\n",
       "    <tr>\n",
       "      <th>2020-10-16</th>\n",
       "      <td>0.832103</td>\n",
       "      <td>0.807111</td>\n",
       "      <td>0.800756</td>\n",
       "    </tr>\n",
       "    <tr>\n",
       "      <th>2020-10-15</th>\n",
       "      <td>0.828842</td>\n",
       "      <td>0.811245</td>\n",
       "      <td>0.800648</td>\n",
       "    </tr>\n",
       "    <tr>\n",
       "      <th>2020-10-14</th>\n",
       "      <td>0.829418</td>\n",
       "      <td>0.817123</td>\n",
       "      <td>0.801873</td>\n",
       "    </tr>\n",
       "    <tr>\n",
       "      <th>2020-10-13</th>\n",
       "      <td>0.834241</td>\n",
       "      <td>0.824479</td>\n",
       "      <td>0.807220</td>\n",
       "    </tr>\n",
       "  </tbody>\n",
       "</table>\n",
       "<p>251 rows × 3 columns</p>\n",
       "</div>"
      ],
      "text/plain": [
       "            Index_DJIA  Index_QQQM       SPX\n",
       "Date                                        \n",
       "2021-10-11    1.003424    1.003406  1.002423\n",
       "2021-10-08    1.010702    1.011102  1.009353\n",
       "2021-10-07    1.010955    1.016074  1.011288\n",
       "2021-10-06    1.001124    1.007220  1.002965\n",
       "2021-10-05    0.998148    1.000409  0.998867\n",
       "...                ...         ...       ...\n",
       "2020-10-19    0.820151    0.793148  0.787680\n",
       "2020-10-16    0.832103    0.807111  0.800756\n",
       "2020-10-15    0.828842    0.811245  0.800648\n",
       "2020-10-14    0.829418    0.817123  0.801873\n",
       "2020-10-13    0.834241    0.824479  0.807220\n",
       "\n",
       "[251 rows x 3 columns]"
      ]
     },
     "execution_count": 17,
     "metadata": {},
     "output_type": "execute_result"
    }
   ],
   "source": [
    "df_cum = (1+ df_daily_returns).cumprod()\n",
    "\n",
    "df_cum.replace([np.inf,-np.inf],np.nan,inplace=True)\n",
    "df_cum = df_cum.dropna().copy()\n",
    "df_cum\n"
   ]
  },
  {
   "cell_type": "code",
   "execution_count": 18,
   "id": "d80b557a",
   "metadata": {},
   "outputs": [
    {
     "data": {
      "text/plain": [
       "<AxesSubplot:xlabel='Date'>"
      ]
     },
     "execution_count": 18,
     "metadata": {},
     "output_type": "execute_result"
    },
    {
     "data": {
      "image/png": "[encoded data removed]",
      "text/plain": [
       "<Figure size 1440x720 with 1 Axes>"
      ]
     },
     "metadata": {
      "needs_background": "light"
     },
     "output_type": "display_data"
    }
   ],
   "source": [
    "# Plot cumulative returns\n",
    "df_cum.plot(figsize = (20,10))"
   ]
  },
  {
   "cell_type": "code",
   "execution_count": null,
   "id": "a7a224ab",
   "metadata": {},
   "outputs": [],
   "source": []
  },
  {
   "cell_type": "markdown",
   "id": "39988b24",
   "metadata": {},
   "source": [
    " <AxesSubplot:xlabel='Date'>\n"
   ]
  },
  {
   "cell_type": "code",
   "execution_count": 19,
   "id": "7f00a766",
   "metadata": {},
   "outputs": [
    {
     "data": {
      "text/plain": [
       "<AxesSubplot:>"
      ]
     },
     "execution_count": 19,
     "metadata": {},
     "output_type": "execute_result"
    },
    {
     "data": {
      "image/png": "[encoded data removed]",
      "text/plain": [
       "<Figure size 1440x720 with 1 Axes>"
      ]
     },
     "metadata": {
      "needs_background": "light"
     },
     "output_type": "display_data"
    }
   ],
   "source": [
    "# Box plot to visually show risk\n",
    "df_daily_returns.plot(kind = \"box\", figsize = (20,10))"
   ]
  },
  {
   "cell_type": "code",
   "execution_count": null,
   "id": "d2804f63",
   "metadata": {},
   "outputs": [],
   "source": []
  },
  {
   "cell_type": "code",
   "execution_count": 20,
   "id": "9c397894",
   "metadata": {},
   "outputs": [
    {
     "data": {
      "text/plain": [
       "Index_DJIA    0.008390\n",
       "Index_QQQM    0.011671\n",
       "SPX           0.008539\n",
       "dtype: float64"
      ]
     },
     "execution_count": 20,
     "metadata": {},
     "output_type": "execute_result"
    }
   ],
   "source": [
    "# Calculate the standard deviation of all stocks\n",
    "#df_daily_std = pd.DataFrame(df_daily.std()).rename(columns - [0:\"std\"})\n",
    "df_daily_returns.std()"
   ]
  },
  {
   "cell_type": "code",
   "execution_count": 21,
   "id": "e0bdc23c",
   "metadata": {},
   "outputs": [
    {
     "data": {
      "text/plain": [
       "Index_DJIA    0.133180\n",
       "Index_QQQM    0.185273\n",
       "SPX           0.135555\n",
       "dtype: float64"
      ]
     },
     "execution_count": 21,
     "metadata": {},
     "output_type": "execute_result"
    }
   ],
   "source": [
    "# Calculate the Annualized Std Deviation (252 trading days)\n",
    "df_annualized_std = df_daily_returns.std()*np.sqrt(252)\n",
    "df_annualized_std\n"
   ]
  },
  {
   "cell_type": "code",
   "execution_count": null,
   "id": "2723ba85",
   "metadata": {},
   "outputs": [],
   "source": []
  }
 ],
 "metadata": {
  "kernelspec": {
   "display_name": "Python 3",
   "language": "python",
   "name": "python3"
  },
  "language_info": {
   "codemirror_mode": {
    "name": "ipython",
    "version": 3
   },
   "file_extension": ".py",
   "mimetype": "text/x-python",
   "name": "python",
   "nbconvert_exporter": "python",
   "pygments_lexer": "ipython3",
   "version": "3.7.10"
  }
 },
 "nbformat": 4,
 "nbformat_minor": 5
}
