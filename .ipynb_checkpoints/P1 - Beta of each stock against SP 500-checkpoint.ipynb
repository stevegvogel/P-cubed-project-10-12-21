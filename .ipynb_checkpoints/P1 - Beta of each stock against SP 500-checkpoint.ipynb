{
 "cells": [
  {
   "cell_type": "code",
   "execution_count": 1,
   "id": "e2175b3b",
   "metadata": {},
   "outputs": [],
   "source": [
    "import numpy as np\n",
    "import pandas_datareader as pdr\n",
    "import datetime as dt\n",
    "import pandas as pd\n",
    "from sklearn.linear_model import LinearRegression\n",
    "import matplotlib.pyplot as plt\n",
    "%matplotlib notebook\n",
    " \n",
    " \n",
    "tickers = ['ADP', 'BR', 'CDK', '^GSPC']\n",
    "start = dt.datetime(2017, 10, 12)\n",
    "end = dt.datetime(2021, 10, 12)\n",
    " \n",
    "data = pdr.get_data_yahoo(tickers, start, end, interval=\"m\")\n",
    " \n",
    "data = data['Adj Close']\n",
    " \n",
    "log_returns = np.log(data/data.shift())"
   ]
  },
  {
   "cell_type": "code",
   "execution_count": 2,
   "id": "7cf7bf97",
   "metadata": {},
   "outputs": [
    {
     "data": {
      "text/plain": [
       "0.7507070124785745"
      ]
     },
     "execution_count": 2,
     "metadata": {},
     "output_type": "execute_result"
    }
   ],
   "source": [
    "# Calculate beta of ADP\n",
    "cov = log_returns.cov()\n",
    "var = log_returns['^GSPC'].var()\n",
    " \n",
    "cov.loc['ADP', '^GSPC']/var\n"
   ]
  },
  {
   "cell_type": "code",
   "execution_count": 3,
   "id": "b380f5bb",
   "metadata": {},
   "outputs": [
    {
     "data": {
      "text/plain": [
       "0.7507070124785745"
      ]
     },
     "execution_count": 3,
     "metadata": {},
     "output_type": "execute_result"
    }
   ],
   "source": [
    "# Calculate regression of ADP\n",
    "X = log_returns['^GSPC'].iloc[1:].to_numpy().reshape(-1, 1)\n",
    "Y = log_returns['ADP'].iloc[1:].to_numpy().reshape(-1, 1)\n",
    " \n",
    "lin_regr = LinearRegression()\n",
    "lin_regr.fit(X, Y)\n",
    " \n",
    "lin_regr.coef_[0, 0]"
   ]
  },
  {
   "cell_type": "code",
   "execution_count": 4,
   "id": "1c760a11",
   "metadata": {},
   "outputs": [
    {
     "data": {
      "text/plain": [
       "0.8718334377083568"
      ]
     },
     "execution_count": 4,
     "metadata": {},
     "output_type": "execute_result"
    }
   ],
   "source": [
    "# Calculate beta of BR\n",
    "cov = log_returns.cov()\n",
    "var = log_returns['^GSPC'].var()\n",
    " \n",
    "cov.loc['BR', '^GSPC']/var\n"
   ]
  },
  {
   "cell_type": "code",
   "execution_count": 5,
   "id": "6197112c",
   "metadata": {},
   "outputs": [
    {
     "data": {
      "text/plain": [
       "0.8718334377083566"
      ]
     },
     "execution_count": 5,
     "metadata": {},
     "output_type": "execute_result"
    }
   ],
   "source": [
    "# Calculate regression of BR\n",
    "X = log_returns['^GSPC'].iloc[1:].to_numpy().reshape(-1, 1)\n",
    "Y = log_returns['BR'].iloc[1:].to_numpy().reshape(-1, 1)\n",
    " \n",
    "lin_regr = LinearRegression()\n",
    "lin_regr.fit(X, Y)\n",
    " \n",
    "lin_regr.coef_[0, 0]"
   ]
  },
  {
   "cell_type": "code",
   "execution_count": 6,
   "id": "ff3599f0",
   "metadata": {},
   "outputs": [
    {
     "data": {
      "text/plain": [
       "1.3437923721462988"
      ]
     },
     "execution_count": 6,
     "metadata": {},
     "output_type": "execute_result"
    }
   ],
   "source": [
    "# Calculate beta of CDK\n",
    "cov = log_returns.cov()\n",
    "var = log_returns['^GSPC'].var()\n",
    " \n",
    "cov.loc['CDK', '^GSPC']/var\n"
   ]
  },
  {
   "cell_type": "code",
   "execution_count": 7,
   "id": "9628867d",
   "metadata": {},
   "outputs": [
    {
     "data": {
      "text/plain": [
       "1.3437923721462988"
      ]
     },
     "execution_count": 7,
     "metadata": {},
     "output_type": "execute_result"
    }
   ],
   "source": [
    "# Calculate regression of CDK\n",
    "X = log_returns['^GSPC'].iloc[1:].to_numpy().reshape(-1, 1)\n",
    "Y = log_returns['CDK'].iloc[1:].to_numpy().reshape(-1, 1)\n",
    " \n",
    "lin_regr = LinearRegression()\n",
    "lin_regr.fit(X, Y)\n",
    " \n",
    "lin_regr.coef_[0, 0]"
   ]
  },
  {
   "cell_type": "code",
   "execution_count": 8,
   "id": "d9f3dfc4",
   "metadata": {},
   "outputs": [],
   "source": [
    "# Correlation and visualization "
   ]
  },
  {
   "cell_type": "code",
   "execution_count": 9,
   "id": "cb53d34a",
   "metadata": {},
   "outputs": [],
   "source": [
    "tickers = ['ADP', 'BR', 'CDK','^GSPC']\n",
    "start = dt.datetime(2017, 10, 12)\n",
    " \n",
    "data = pdr.get_data_yahoo(tickers, start)\n",
    "data = data['Adj Close']\n",
    "log_returns = np.log(data/data.shift())"
   ]
  },
  {
   "cell_type": "code",
   "execution_count": 10,
   "id": "c8a7280b",
   "metadata": {},
   "outputs": [],
   "source": [
    "def linear_regression(ticker_a, ticker_b):\n",
    "    X = log_returns[ticker_a].iloc[1:].to_numpy().reshape(-1, 1)\n",
    "    Y = log_returns[ticker_b].iloc[1:].to_numpy().reshape(-1, 1)\n",
    " \n",
    "    lin_regr = LinearRegression()\n",
    "    lin_regr.fit(X, Y)\n",
    " \n",
    "    Y_pred = lin_regr.predict(X)\n",
    " \n",
    "    alpha = lin_regr.intercept_[0]\n",
    "    beta = lin_regr.coef_[0, 0]\n",
    " \n",
    "    fig, ax = plt.subplots()\n",
    "    ax.set_title(\"Alpha: \" + str(round(alpha, 5)) + \", Beta: \" + str(round(beta, 3)))\n",
    "    ax.scatter(X, Y)\n",
    "    ax.plot(X, Y_pred, c='r')"
   ]
  },
  {
   "cell_type": "code",
   "execution_count": null,
   "id": "3454d5a4",
   "metadata": {},
   "outputs": [],
   "source": []
  }
 ],
 "metadata": {
  "kernelspec": {
   "display_name": "Python 3",
   "language": "python",
   "name": "python3"
  },
  "language_info": {
   "codemirror_mode": {
    "name": "ipython",
    "version": 3
   },
   "file_extension": ".py",
   "mimetype": "text/x-python",
   "name": "python",
   "nbconvert_exporter": "python",
   "pygments_lexer": "ipython3",
   "version": "3.7.10"
  }
 },
 "nbformat": 4,
 "nbformat_minor": 5
}
